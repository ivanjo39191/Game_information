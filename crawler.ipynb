{
 "cells": [
  {
   "cell_type": "code",
   "execution_count": 10,
   "metadata": {
    "collapsed": true
   },
   "outputs": [],
   "source": [
    "import requests\n",
    "from bs4 import BeautifulSoup\n",
    "import urllib\n",
    "import re"
   ]
  },
  {
   "cell_type": "code",
   "execution_count": 6,
   "metadata": {
    "collapsed": true
   },
   "outputs": [],
   "source": [
    "def girlfrontline():\n",
    "    import requests\n",
    "    from bs4 import BeautifulSoup\n",
    "    import urllib\n",
    "    import re\n",
    "    global titles,links,at,ct,t,l\n",
    "\n",
    "    url = 'https://forum.gamer.com.tw/B.php?bsn=31406'   #選擇網址\n",
    "    user_agent = 'Mozilla/5.0 (Windows; U; Windows NT 6.1; zh-CN; rv:1.9.2.15) Gecko/20110303 Firefox/3.6.15' #偽裝使用者\n",
    "    headers = {'User-Agent':user_agent}\n",
    "    data_res = urllib.request.Request(url=url,headers=headers)\n",
    "    data = urllib.request.urlopen(data_res)\n",
    "    data = data.read().decode('utf-8')  \n",
    "    sp = BeautifulSoup(data, \"html.parser\")\n",
    "\n",
    "    title = sp.findAll('td',{\"class\":\"b-list__main\"})\n",
    "    titles = []\n",
    "    for titlee in title:\n",
    "        titles.append(titlee.text.strip('\\n'))\n",
    "\n",
    "    links = []\n",
    "    ll = 'https://forum.gamer.com.tw/'\n",
    "    link = sp.find(\"table\",{\"class\":\"b-list\"}).findAll(\"a\", href = re.compile('C.php?'))\n",
    "    for linkk in link:\n",
    "        page = re.compile(r'^((?!page).)*$')  ##不匹配page\n",
    "        last = re.compile(r'^((?!last).)*$')  ##不匹配last\n",
    "        m = page.match(linkk['href'])  ##設定變數m來排除page\n",
    "        if m != None:  ##若不為None (None會跳出例外)\n",
    "            n = last.match(m.group(0)) ## 設定變數n來排除last\n",
    "            if n != None: ##若不為None (None會跳出例外)\n",
    "                links.append(ll+n.group(0))\n",
    "\n",
    "    for t,l in zip(titles,links):\n",
    "        print(t,l)\n",
    "        content(l)\n",
    "        sql()\n",
    "\n",
    "\n",
    "\n"
   ]
  },
  {
   "cell_type": "code",
   "execution_count": 5,
   "metadata": {
    "collapsed": true
   },
   "outputs": [],
   "source": [
    "def content(aa):\n",
    "\n",
    "    global at,ct\n",
    "    url = aa   #選擇網址\n",
    "    user_agent = 'Mozilla/5.0 (Windows; U; Windows NT 6.1; zh-CN; rv:1.9.2.15) Gecko/20110303 Firefox/3.6.15' #偽裝使用者\n",
    "    headers = {'User-Agent':user_agent}\n",
    "    data_res = urllib.request.Request(url=url,headers=headers)\n",
    "    data = urllib.request.urlopen(data_res)\n",
    "    data = data.read().decode('utf-8')  \n",
    "    sp = BeautifulSoup(data, \"html.parser\")\n",
    "\n",
    "    authors = sp.find('div',{\"class\":\"c-post__header__author\"}).findAll(\"a\",{\"class\":\"username\"})\n",
    "    for author in authors:\n",
    "        at = author.text\n",
    "        print(at)\n",
    "\n",
    "    contents = sp.find('div',{\"class\":\"c-article__content\"})\n",
    "    ct = contents\n",
    "    print(ct)\n"
   ]
  },
  {
   "cell_type": "code",
   "execution_count": 12,
   "metadata": {},
   "outputs": [
    {
     "name": "stdout",
     "output_type": "stream",
     "text": [
      "Clμ R1ИzLΣr\n",
      "\n",
      "好圖先行(報告長官，明明有位四星人形在裡面⊙ω⊙)開一個樓讓大家分享自己造出來的五星人形和配方(擁有歐洲之證的四星也歡迎)，以供其他玩家參考(兼曬槍XD)，順便了解不同於建造日誌的出貨頻率例：配方：6000/2000/6000/4000 3/20心路歷程：N/A偷偷換個圖應該沒人會發現吧...話說這篇已經是置頂中最古老的文章了欸，嘿嘿(￣▽￣)\n",
      "\n"
     ]
    }
   ],
   "source": [
    "def sql():\n",
    "    global t,l,at,ct\n",
    "    try:\n",
    "        cAuthor = at    \n",
    "        cContent = ct\n",
    "        cTitle = t\n",
    "        cLink = l\n",
    "        unit = student.objects.create(cAuthor=cAuthor, cContent=cContent, cTitle=cTitle, cLink=cLink) \n",
    "        unit.save()                      #寫入資料庫\n",
    "    except:\n",
    "        print('資料錯誤')"
   ]
  },
  {
   "cell_type": "code",
   "execution_count": 4,
   "metadata": {},
   "outputs": [
    {
     "name": "stdout",
     "output_type": "stream",
     "text": [
      "https://p2.bahamut.com.tw/FORUM/welcome/31406_3_1526745639.JPG\n"
     ]
    }
   ],
   "source": [
    "# 巴哈姆特進版圖片\n",
    "\n",
    "import requests\n",
    "from bs4 import BeautifulSoup\n",
    "import urllib\n",
    "import re\n",
    "def titleimg():\n",
    "    url = 'https://forum.gamer.com.tw/A.php?bsn=31406'   #選擇網址\n",
    "    user_agent = 'Mozilla/5.0 (Windows; U; Windows NT 6.1; zh-CN; rv:1.9.2.15) Gecko/20110303 Firefox/3.6.15' #偽裝使用者\n",
    "    headers = {'User-Agent':user_agent}\n",
    "    data_res = urllib.request.Request(url=url,headers=headers)\n",
    "    data = urllib.request.urlopen(data_res)\n",
    "    data = data.read().decode('utf-8')  \n",
    "    sp = BeautifulSoup(data, \"html.parser\")\n",
    "\n",
    "    titleimg = sp.find(\"div\",{\"class\":\"FM-abox1\"}).findAll(\"img\", src = re.compile('/welcome/'))\n",
    "\n",
    "    for timg in titleimg:\n",
    "        print(timg['src'])\n"
   ]
  },
  {
   "cell_type": "code",
   "execution_count": 6,
   "metadata": {},
   "outputs": [
    {
     "name": "stdout",
     "output_type": "stream",
     "text": [
      "亞緹米絲\n",
      "<div class=\"c-article__content\">\n",
      "<div><hr/></div><div align=\"center\"><b><font color=\"#000000\"><font face=\"新細明體\"><font size=\"6\">&lt; 最新訊息 &gt;</font></font></font></b></div><div align=\"center\"><br/></div><div align=\"center\"><font size=\"5\"><font face=\"新細明體\"><b><font color=\"#000000\">即將開放 </font><font color=\"#ff0000\">夜戰</font><font color=\"#000000\"> - </font><font color=\"#ff0000\">第8章</font></b></font></font></div><div align=\"center\"><a class=\"photoswipe-image\" href=\"https://truth.bahamut.com.tw/s01/201805/babb9147722c4e8a0680b6e882ced515.JPG\"><img class=\"lazyload\" data-src=\"https://truth.bahamut.com.tw/s01/201805/babb9147722c4e8a0680b6e882ced515.JPG\"/></a><br/></div><div align=\"center\"><br/></div><div align=\"center\"><font color=\"#000000\"><font face=\"新細明體\"><font color=\"#993300\"><font color=\"#000000\"><font size=\"5\"><font color=\"#000000\"><b>二週年 - <font color=\"#0000FF\">四大聖造</font> + <font color=\"#0000FF\">綱領</font> + <font color=\"#0000FF\">採購</font> + <font color=\"#0000FF\">聖肝</font></b></font></font></font></font></font></font></div><div align=\"center\"><br/></div><div align=\"center\"><font color=\"#000000\"><font face=\"新細明體\"><font size=\"5\"><b>綱領 - 暗影密令 : 任務表</b></font></font></font></div><div align=\"center\"><a class=\"photoswipe-image\" href=\"https://truth.bahamut.com.tw/s01/201805/776000d471e8ca9534cb4248db122d09.JPG\"><img class=\"lazyload\" data-src=\"https://truth.bahamut.com.tw/s01/201805/776000d471e8ca9534cb4248db122d09.JPG\"/></a><br/></div><div align=\"center\"><font color=\"#000000\"><font face=\"新細明體\"><font size=\"5\"><b>感謝  <font color=\"#790000\">鏡子－零崎幻識 </font> </b></font></font></font><a href=\"https://ref.gamer.com.tw/redir.php?url=https%3A%2F%2Fhome.gamer.com.tw%2FSignum123\" target=\"_blank\"><font color=\"#800080\"><font face=\"新細明體\"><font size=\"5\"><b>Signum123</b></font></font></font></a><font size=\"5\">  <b><font color=\"#000000\"><font size=\"4\"><font size=\"5\">提供</font> <img border=\"0\" src=\"https://i2.bahamut.com.tw/editor/emotion/12.gif\"/> </font></font></b></font></div><div align=\"center\"><br/></div><div align=\"center\"><hr/></div><div align=\"center\"><div align=\"center\"><font color=\"#000000\"><font face=\"新細明體\"><font size=\"6\"><b>&lt; 二週年系列 - 活動訊息 &gt;</b></font></font></font></div></div><div align=\"center\"><br/></div><div align=\"center\"><b><font size=\"5\"><font face=\"標楷體\"><font color=\"#000000\">【五星人形自選活動】<font face=\"新細明體\">( 記得每天登入 )</font></font></font></font></b></div><div align=\"center\"><b><font size=\"5\"><font face=\"標楷體\"><font color=\"#339966\">5/14(一) 00:00</font></font><font face=\"標楷體\"> <font face=\"新細明體\"><font color=\"#000000\">-</font></font> <font color=\"#339966\">5/31(四) 23:59</font><font color=\"#000000\"> 累積簽到滿7天,即可獲得 \"</font><font color=\"#FF6600\">真核面具</font><font color=\"#000000\">\"</font></font></font></b></div><div align=\"center\"><font color=\"#000000\"><font face=\"標楷體\"><font size=\"5\"><b>\"<font color=\"#FF6600\">真核面具</font>\" 可在 <font color=\"#0000FF\">5/20(日)</font> 於活動商城中,兌換任意一名列表中的 <font color=\"#FF0000\">5星人形</font></b></font></font></font></div><div align=\"center\"><a class=\"photoswipe-image\" href=\"https://truth.bahamut.com.tw/s01/201805/a813c88baba05254878afc23af267aac.JPG\"><img class=\"lazyload\" data-src=\"https://truth.bahamut.com.tw/s01/201805/a813c88baba05254878afc23af267aac.JPG\"/></a><br/></div><div align=\"center\"><br/></div><div align=\"center\"><b><font color=\"#000000\"><font face=\"微軟正黑體\"><font size=\"4\">--------------------------------------------------------------------------------</font></font></font></b></div><div align=\"center\"><div align=\"center\"><div align=\"center\"><font face=\"新細明體\"><b><font color=\"#000000\"><font size=\"5\">1. 二週年</font></font><font size=\"5\"><font color=\"#000000\"> - 首儲雙倍重罝</font></font><font size=\"5\"><font color=\"#000000\"> : </font></font></b></font><font color=\"#000000\"><font size=\"5\"><font color=\"#FF00FF\"><b><font color=\"#790000\">5/18(</font><font color=\"#790000\">五)</font></b></font></font><font size=\"5\"><b> </b><b>維修完</b></font></font></div></div><div align=\"center\"><font face=\"新細明體\"><font color=\"#000000\"><font size=\"5\"><a class=\"photoswipe-image\" href=\"https://truth.bahamut.com.tw/s01/201805/06b80ed7ec54f849b849d6323f47dca0.JPG\"><img class=\"lazyload\" data-src=\"https://truth.bahamut.com.tw/s01/201805/06b80ed7ec54f849b849d6323f47dca0.JPG\"/></a><br/></font></font></font></div><div align=\"center\"><br/></div><div align=\"center\"><font color=\"#000000\"><font face=\"新細明體\"><font size=\"5\"><b>2. 二週年<font size=\"5\"><font color=\"#000000\"> - 週年慶福袋</font></font><font size=\"5\"><font color=\"#000000\"> : </font></font><font color=\"#000000\"><font size=\"5\"><font color=\"#FF00FF\"><font color=\"#0000FF\">5/18</font><font color=\"#0000FF\">(五)</font></font></font><font size=\"5\"> 維修完 ~ </font><font size=\"5\"><font color=\"#FF00FF\"><font color=\"#0000FF\">6/1(五</font><font color=\"#0000FF\">)</font></font></font><font size=\"5\"> 23:59</font></font></b></font></font></font></div><div align=\"center\"><b><font color=\"#000000\"><font face=\"新細明體\"><font size=\"5\"><a class=\"photoswipe-image\" href=\"https://truth.bahamut.com.tw/s01/201805/b46607d08616667e76dc13b46c4949fd.JPG\"><img class=\"lazyload\" data-src=\"https://truth.bahamut.com.tw/s01/201805/b46607d08616667e76dc13b46c4949fd.JPG\"/></a><br/></font></font></font></b></div><div align=\"center\"><br/></div><div align=\"center\"><font color=\"#000000\"><font size=\"5\"><font face=\"新細明體\"><b>3. 二週年</b><font color=\"#000000\"><b> - 重型</b><b>人形製造機率UP</b></font><font color=\"#000000\"><b> : </b></font></font><font color=\"#000000\"><b><font color=\"#FF00FF\"><font color=\"#339966\">5/24(</font><font color=\"#339966\">四)</font></font> 00:00 ~ <font color=\"#FF00FF\"><font color=\"#339966\">5/</font><font color=\"#339966\">25(五)</font></font> 23:59</b></font></font></font></div><div align=\"center\"><font color=\"#000000\"><font size=\"5\"><font face=\"新細明體\"><b>4. 二週年</b><font color=\"#000000\"><b> - </b><b>重型裝備</b><b>製造機率UP</b></font><font color=\"#000000\"><b> : </b></font></font><font color=\"#000000\"><b><font color=\"#FF00FF\"><font color=\"#339966\">5/26(六</font><font color=\"#339966\">)</font></font> 00:00 ~ <font color=\"#FF00FF\"><font color=\"#339966\">5/27</font><font color=\"#339966\">(日)</font></font> 23:59</b></font></font></font></div><div align=\"center\"><a class=\"photoswipe-image\" href=\"https://truth.bahamut.com.tw/s01/201805/613a03a5a0a87bc2a858c2ac71838b50.JPG\"><img class=\"lazyload\" data-src=\"https://truth.bahamut.com.tw/s01/201805/613a03a5a0a87bc2a858c2ac71838b50.JPG\"/></a><br/></div><div align=\"center\"><br/></div><div align=\"center\"><font face=\"新細明體\"><b><font color=\"#000000\"><font size=\"5\">5. 二週年</font></font><font size=\"5\"><font color=\"#000000\"> - 採購主題(仲夏夜之夢)</font></font></b><font size=\"5\"><font color=\"#000000\"><b> : </b><font color=\"#000000\"><b><font size=\"5\"><font color=\"#FF00FF\"><font face=\"Arial\"><font color=\"#FF6600\">5</font><font color=\"#FF6600\">/20(日)</font></font></font></font><font size=\"5\"> 00:00 ~ </font><font size=\"5\"><font color=\"#FF00FF\"><font face=\"Arial\"><font color=\"#0000FF\"><font color=\"#FF6600\">6</font></font><font color=\"#FF6600\">/1(五)</font></font></font></font><font size=\"5\"> 維修前</font></b></font></font></font></font></div><div align=\"center\"><br/></div><div align=\"center\"><font size=\"5\"><b><font color=\"#000000\"><font face=\"新細明體\">6. 二週年 - <font color=\"#000000\">綱領 : </font><font color=\"#000000\">暗影密令 : </font></font></font><font color=\"#000000\"><font color=\"#FF00FF\">5/20(日)</font> 00:00 ~ <font color=\"#FF00FF\">6/10(日)</font> 23:59</font></b></font></div><div align=\"center\"><a class=\"photoswipe-image\" href=\"https://truth.bahamut.com.tw/s01/201805/79cddeda776f57aa29aaad00cc28a85d.JPG\"><img class=\"lazyload\" data-src=\"https://truth.bahamut.com.tw/s01/201805/79cddeda776f57aa29aaad00cc28a85d.JPG\"/></a><br/></div></div><div align=\"center\"><br/></div><div align=\"center\"><font face=\"新細明體\"><font color=\"#000000\"><font size=\"5\"><b>7. 二週年 - 戰役作戰經驗1.5倍UP(聖肝)</b></font></font><font color=\"#000000\"><font size=\"5\"><b> : <font color=\"#993300\">5/28(一)</font> 00:00 </b><b>~ <font color=\"#993300\">6/3(日)</font> 23:59</b></font></font></font></div><div align=\"center\"><br/></div><div></div><div><hr/></div><div align=\"center\"><font color=\"#000000\"><font face=\"新細明體\"><font size=\"6\"><b>&lt; 活動訊息 &gt;</b></font></font></font><br/></div><div align=\"center\"><br/></div><div align=\"center\"><b><font face=\"新細明體\"><font color=\"#000000\"><font size=\"5\">1. 復刻採購主題(17年牧月之邀) : </font></font><font size=\"5\"><font color=\"#993300\"><font color=\"#0000FF\">5/18(五)</font></font></font><font color=\"#0000FF\"><font size=\"5\"><font color=\"#000000\"> 維修後</font></font></font><font color=\"#000000\"><font size=\"5\"> -<font color=\"#0000FF\"> </font></font></font><font color=\"#0000FF\"><font size=\"5\"><font color=\"#0000FF\"><font color=\"#993300\"><font color=\"#0000FF\">6/1(五</font><font color=\"#0000FF\">)</font></font></font> </font><font size=\"5\"><font color=\"#000000\">維修前</font></font></font></font></b></div><div align=\"center\"><b><font color=\"#000000\"><font face=\"新細明體\"><font size=\"5\"><a class=\"photoswipe-image\" href=\"https://truth.bahamut.com.tw/s01/201805/af7e1e2ee10d5321dd76e6eddfd7610d.JPG\"><img class=\"lazyload\" data-src=\"https://truth.bahamut.com.tw/s01/201805/af7e1e2ee10d5321dd76e6eddfd7610d.JPG\"/></a><br/></font></font></font></b></div><div align=\"center\"><br/></div><div align=\"center\"><font size=\"5\"><b><font face=\"新細明體\"><font color=\"#000000\">2. 聯動活動 - DJMAX - 榮耀日 : </font><font color=\"#FF0000\">5/4(五) <font color=\"#000000\">維修完</font><font color=\"#000000\"> -</font> 5/25(五) <font color=\"#000000\">維修前</font></font></font></b></font></div><div align=\"center\"><a class=\"photoswipe-image\" href=\"https://truth.bahamut.com.tw/s01/201804/b5db6d08cdf7ac232816e841c5f0a637.JPG\"><img class=\"lazyload\" data-src=\"https://truth.bahamut.com.tw/s01/201804/b5db6d08cdf7ac232816e841c5f0a637.JPG\"/></a><br/></div><div align=\"center\"><br/></div><div align=\"center\"><hr/><font color=\"#000000\"><font face=\"新細明體\"><font size=\"6\"><b>&lt; 2018 聯動活動 : DJMAX - 榮耀日 &gt;</b></font></font></font></div><div align=\"center\"><a class=\"photoswipe-image\" href=\"https://truth.bahamut.com.tw/s01/201804/3a691ce92a39582d0857c6076f42f6f0.JPG\"><img class=\"lazyload\" data-src=\"https://truth.bahamut.com.tw/s01/201804/3a691ce92a39582d0857c6076f42f6f0.JPG\"/></a><br/></div><div align=\"center\"><br/></div><div align=\"center\"><div align=\"center\"><b><font color=\"#000000\"><font face=\"微軟正黑體\"><font size=\"4\">--------------------------------------------------------------------------------</font></font></font></b></div><div align=\"center\"><font color=\"#000000\"><font face=\"新細明體\"><font size=\"5\"><b>[ 2018 聯動活動 - 各連結區 ]</b></font></font></font></div><div align=\"center\"><br/></div><div align=\"center\"><font face=\"新細明體\"><font size=\"4\"><a href=\"https://ref.gamer.com.tw/redir.php?url=https%3A%2F%2Fforum.gamer.com.tw%2FC.php%3Fbsn%3D31406%26snA%3D10363%26tnum%3D1\" target=\"_blank\"><b><font size=\"5\"><font color=\"#FF00FF\">【心得】</font><font color=\"#FF00FF\">撼動身心的音樂盛宴(ﾟ∀。) 少女前線x DJMAX 攻略簡易心得</font></font></b></a></font></font></div><div align=\"center\"><br/></div><div align=\"center\"><a href=\"https://ref.gamer.com.tw/redir.php?url=https%3A%2F%2Fforum.gamer.com.tw%2FC.php%3Fbsn%3D31406%26snA%3D10316%26tnum%3D1\" target=\"_blank\"><font color=\"#FF6600\"><font size=\"5\"><b>【攻略】2018 聯動活動 : DJMAX - 榮耀日 \"攻略\" 集中串</b></font></font></a></div><div align=\"center\"><br/></div><div align=\"center\"><a href=\"https://ref.gamer.com.tw/redir.php?url=https%3A%2F%2Fforum.gamer.com.tw%2FC.php%3Fbsn%3D31406%26snA%3D10317%26tnum%3D1\" target=\"_blank\"><font color=\"#0000FF\"><font size=\"5\"><b>【討論】2018 聯動活動 : DJMAX - 榮耀日 \"問題\" 集中串</b></font></font></a></div><div align=\"center\"><br/></div><div align=\"center\"><font size=\"5\"><font color=\"#993300\"><b><a href=\"https://ref.gamer.com.tw/redir.php?url=https%3A%2F%2Fforum.gamer.com.tw%2FC.php%3Fbsn%3D31406%26snA%3D10318%26tnum%3D1\" target=\"_blank\"><font color=\"#993300\"><font color=\"#790000\">【閒聊】2018 聯動活動 : DJMAX</font><font color=\"#790000\"> - 榮耀日 \"打撈\" 集中串</font></font></a></b></font></font></div><div align=\"center\"><br/></div></div><div><hr/></div><div align=\"center\"><font color=\"#000000\"><font face=\"新細明體\"><font size=\"6\"><b>&lt; 心智升級 &gt;</b></font></font></font></div><div><div align=\"center\"><b><font size=\"4\"><a class=\"photoswipe-image\" href=\"https://truth.bahamut.com.tw/s01/201801/64d936f1370410188ee7de4bb9fcad91.JPG\"><img class=\"lazyload\" data-src=\"https://truth.bahamut.com.tw/s01/201801/64d936f1370410188ee7de4bb9fcad91.JPG\"/></a></font></b></div><br/></div><div><div align=\"center\"><b><font color=\"#000000\"><font face=\"微軟正黑體\"><font size=\"4\">--------------------------------------------------------------------------------</font></font></font></b></div><div align=\"center\"><font color=\"#000000\"><font face=\"新細明體\"><font size=\"5\"><b>[ 心智升級 - 各連結區 ]</b></font></font></font></div></div><div><br/></div><div align=\"center\"><a href=\"https://ref.gamer.com.tw/redir.php?url=https%3A%2F%2Fforum.gamer.com.tw%2FC.php%3Fbsn%3D31406%26snA%3D10380%26tnum%3D1\" target=\"_blank\"><font size=\"5\"><b><font color=\"#FF0000\">【攻略</font><font color=\"#FF0000\">】心智升級/改造整理與指南</font></b></font></a></div><div align=\"center\"><br/></div><div align=\"center\"><a href=\"https://ref.gamer.com.tw/redir.php?url=https%3A%2F%2Fforum.gamer.com.tw%2FC.php%3Fbsn%3D31406%26snA%3D9709%26tnum%3D2\" target=\"_blank\"><font size=\"5\"><b><font color=\"#0000FF\">【情報】心智升級 升</font><font color=\"#0000FF\">至MOD3所需的報告書數量</font></b></font></a><br/></div><div align=\"center\"><br/></div><div align=\"center\"><a href=\"https://ref.gamer.com.tw/redir.php?url=https%3A%2F%2Fforum.gamer.com.tw%2FC.php%3Fbsn%3D31406%26snA%3D9204%26tnum%3D12\" target=\"_blank\"><font color=\"#339966\"><font size=\"5\"><b><font color=\"#993300\">【情報】M4/</font><font color=\"#993300\">AR15改造資訊</font></b></font></font></a></div><div align=\"center\"><br/></div><div align=\"center\"><b><font color=\"#FF6600\"><a href=\"https://ref.gamer.com.tw/redir.php?url=https%3A%2F%2Fforum.gamer.com.tw%2FC.php%3Fbsn%3D31406%26snA%3D10037%26tnum%3D1\" target=\"_blank\"><font size=\"5\"><font color=\"#FF6600\"><font color=\"#FF00FF\"><font color=\"#339966\">【心得】M1911改造</font></font><font color=\"#339966\">使用心得-夢想家又被5HG又虐殺了</font></font></font></a><br/></font></b></div><div align=\"center\"><br/></div><div align=\"center\"><a href=\"https://ref.gamer.com.tw/redir.php?url=https%3A%2F%2Fforum.gamer.com.tw%2FC.php%3Fbsn%3D31406%26snA%3D9891%26tnum%3D1\" target=\"_blank\"><font size=\"5\"><font color=\"#339966\"><b><font color=\"#FF6600\">【討論】嘗試M4A1</font><font color=\"#FF6600\">改造 新格里芬木星砲(改良版) 連二保一都行</font></b></font></font></a><br/></div><div align=\"center\"><br/></div><div><hr/><br/></div>\n",
      "</div>\n"
     ]
    }
   ],
   "source": [
    "content('https://forum.gamer.com.tw/C.php?bsn=31406&snA=9698&tnum=15')"
   ]
  },
  {
   "cell_type": "code",
   "execution_count": null,
   "metadata": {
    "collapsed": true
   },
   "outputs": [],
   "source": []
  }
 ],
 "metadata": {
  "kernelspec": {
   "display_name": "Python 3",
   "language": "python",
   "name": "python3"
  },
  "language_info": {
   "codemirror_mode": {
    "name": "ipython",
    "version": 3
   },
   "file_extension": ".py",
   "mimetype": "text/x-python",
   "name": "python",
   "nbconvert_exporter": "python",
   "pygments_lexer": "ipython3",
   "version": "3.6.1"
  }
 },
 "nbformat": 4,
 "nbformat_minor": 2
}
