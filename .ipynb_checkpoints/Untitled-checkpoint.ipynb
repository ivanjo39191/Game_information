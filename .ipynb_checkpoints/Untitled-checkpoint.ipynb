{
 "cells": [
  {
   "cell_type": "code",
   "execution_count": 5,
   "metadata": {},
   "outputs": [
    {
     "data": {
      "text/plain": [
       "'&lt;a href=&quot;//home.gamer.com.tw/jack87108&quot; class=&quot;username&quot; target=&quot;_blank&quot;&gt;玥嵐&lt;/a&gt;'"
      ]
     },
     "execution_count": 5,
     "metadata": {},
     "output_type": "execute_result"
    }
   ],
   "source": [
    "import html\n",
    "a = '<a href=\"//home.gamer.com.tw/jack87108\" class=\"username\" target=\"_blank\">你好</a>'\n",
    "html.escape(a)"
   ]
  },
  {
   "cell_type": "code",
   "execution_count": 3,
   "metadata": {},
   "outputs": [
    {
     "name": "stdout",
     "output_type": "stream",
     "text": [
      "&lt;a class=&quot;username&quot; href=&quot;//home.gamer.com.tw/jack87108&quot; target=&quot;_blank&quot;&gt;玥嵐&lt;/a&gt;\n"
     ]
    }
   ],
   "source": [
    "import html\n",
    "\n",
    "import requests\n",
    "from bs4 import BeautifulSoup\n",
    "import urllib\n",
    "import re\n",
    "url = 'https://forum.gamer.com.tw/C.php?bsn=31406&snA=322&tnum=2733'   #選擇網址\n",
    "user_agent = 'Mozilla/5.0 (Windows; U; Windows NT 6.1; zh-CN; rv:1.9.2.15) Gecko/20110303 Firefox/3.6.15' #偽裝使用者\n",
    "headers = {'User-Agent':user_agent}\n",
    "data_res = urllib.request.Request(url=url,headers=headers)\n",
    "data = urllib.request.urlopen(data_res)\n",
    "data = data.read().decode('utf-8')  \n",
    "sp = BeautifulSoup(data, \"html.parser\")\n",
    "\n",
    "authors = sp.find('div',{\"class\":\"c-post__header__author\"}).findAll(\"a\",{\"class\":\"username\"})\n",
    "for author in authors:\n",
    "    at = html.escape(str(author))\n",
    "print(at)"
   ]
  },
  {
   "cell_type": "code",
   "execution_count": 20,
   "metadata": {},
   "outputs": [
    {
     "name": "stdout",
     "output_type": "stream",
     "text": [
      "<a class=\"username\" href=\"//home.gamer.com.tw/jack87108\" target=\"_blank\">玥嵐</a>\n"
     ]
    }
   ],
   "source": [
    "html.unescape(att)\n",
    "print(att)"
   ]
  },
  {
   "cell_type": "code",
   "execution_count": 26,
   "metadata": {
    "collapsed": true
   },
   "outputs": [],
   "source": [
    "def content(aa):\n",
    "    global titles,links,at,ct,t,l,ctt\n",
    "    url = aa   #選擇網址\n",
    "    user_agent = 'Mozilla/5.0 (Windows; U; Windows NT 6.1; zh-CN; rv:1.9.2.15) Gecko/20110303 Firefox/3.6.15' #偽裝使用者\n",
    "    headers = {'User-Agent':user_agent}\n",
    "    data_res = urllib.request.Request(url=url,headers=headers)\n",
    "    data = urllib.request.urlopen(data_res)\n",
    "    data = data.read().decode('utf-8')  \n",
    "    sp = BeautifulSoup(data, \"html.parser\")\n",
    "\n",
    "    authors = sp.find('div',{\"class\":\"c-post__header__author\"}).findAll(\"a\",{\"class\":\"username\"})\n",
    "    for author in authors:\n",
    "        at = author.text\n",
    "        print(at)\n",
    "\n",
    "    contents = sp.find('div',{\"class\":\"c-article__content\"})\n",
    "    ct = html.escape(str(contents))\n",
    "    ctt = str(contents)\n",
    "    print(ct)\n",
    "    print(ctt)\n"
   ]
  },
  {
   "cell_type": "code",
   "execution_count": 27,
   "metadata": {},
   "outputs": [
    {
     "name": "stdout",
     "output_type": "stream",
     "text": [
      "克羅尼\n",
      "&lt;div class=&quot;c-article__content&quot;&gt;\n",
      "改造MOD1 應該有升級 光環 素質和主動技能&lt;div&gt;但我的人形只有升級光環和素質 主動技能沒被升級&lt;/div&gt;&lt;div&gt;&lt;br/&gt;&lt;/div&gt;&lt;div&gt;不知道其他人有沒有這種情況……&lt;/div&gt;&lt;div&gt;&lt;a class=&quot;photoswipe-image&quot; href=&quot;https://truth.bahamut.com.tw/s01/201805/b25611e516eab056dfb9ad852830d7cf.PNG&quot;&gt;&lt;img class=&quot;lazyload&quot; data-src=&quot;https://truth.bahamut.com.tw/s01/201805/b25611e516eab056dfb9ad852830d7cf.PNG&quot;/&gt;&lt;/a&gt;&lt;br/&gt;&lt;a class=&quot;photoswipe-image&quot; href=&quot;https://truth.bahamut.com.tw/s01/201805/e6364f379a91d2b38b69221c10b86047.PNG&quot;&gt;&lt;img class=&quot;lazyload&quot; data-src=&quot;https://truth.bahamut.com.tw/s01/201805/e6364f379a91d2b38b69221c10b86047.PNG&quot;/&gt;&lt;/a&gt;&lt;br/&gt;&lt;a class=&quot;photoswipe-image&quot; href=&quot;https://truth.bahamut.com.tw/s01/201805/4d660df1103eeb03094e8de8b8bacfb9.JPG&quot;&gt;&lt;img class=&quot;lazyload&quot; data-src=&quot;https://truth.bahamut.com.tw/s01/201805/4d660df1103eeb03094e8de8b8bacfb9.JPG&quot;/&gt;&lt;/a&gt;&lt;br/&gt;&lt;br/&gt;&lt;/div&gt;我說的是主動技能MOD1技能倍率沒升級喔…&lt;br/&gt;&lt;div&gt;&lt;br/&gt;&lt;/div&gt;&lt;div&gt;&lt;a class=&quot;photoswipe-image&quot; href=&quot;https://truth.bahamut.com.tw/s01/201805/501c8815623e671e935cd2ce9cf0377e.PNG&quot;&gt;&lt;img class=&quot;lazyload&quot; data-src=&quot;https://truth.bahamut.com.tw/s01/201805/501c8815623e671e935cd2ce9cf0377e.PNG&quot;/&gt;&lt;/a&gt;&lt;br/&gt;&lt;br/&gt;&lt;/div&gt;\n",
      "&lt;/div&gt;\n",
      "<div class=\"c-article__content\">\n",
      "改造MOD1 應該有升級 光環 素質和主動技能<div>但我的人形只有升級光環和素質 主動技能沒被升級</div><div><br/></div><div>不知道其他人有沒有這種情況……</div><div><a class=\"photoswipe-image\" href=\"https://truth.bahamut.com.tw/s01/201805/b25611e516eab056dfb9ad852830d7cf.PNG\"><img class=\"lazyload\" data-src=\"https://truth.bahamut.com.tw/s01/201805/b25611e516eab056dfb9ad852830d7cf.PNG\"/></a><br/><a class=\"photoswipe-image\" href=\"https://truth.bahamut.com.tw/s01/201805/e6364f379a91d2b38b69221c10b86047.PNG\"><img class=\"lazyload\" data-src=\"https://truth.bahamut.com.tw/s01/201805/e6364f379a91d2b38b69221c10b86047.PNG\"/></a><br/><a class=\"photoswipe-image\" href=\"https://truth.bahamut.com.tw/s01/201805/4d660df1103eeb03094e8de8b8bacfb9.JPG\"><img class=\"lazyload\" data-src=\"https://truth.bahamut.com.tw/s01/201805/4d660df1103eeb03094e8de8b8bacfb9.JPG\"/></a><br/><br/></div>我說的是主動技能MOD1技能倍率沒升級喔…<br/><div><br/></div><div><a class=\"photoswipe-image\" href=\"https://truth.bahamut.com.tw/s01/201805/501c8815623e671e935cd2ce9cf0377e.PNG\"><img class=\"lazyload\" data-src=\"https://truth.bahamut.com.tw/s01/201805/501c8815623e671e935cd2ce9cf0377e.PNG\"/></a><br/><br/></div>\n",
      "</div>\n"
     ]
    }
   ],
   "source": [
    "content('https://forum.gamer.com.tw/C.php?bsn=31406&snA=10692&tnum=2')"
   ]
  },
  {
   "cell_type": "code",
   "execution_count": 35,
   "metadata": {},
   "outputs": [
    {
     "name": "stdout",
     "output_type": "stream",
     "text": [
      "https://truth.bahamut.com.tw/s01/201805/b25611e516eab056dfb9ad852830d7cf.PNG\n",
      "https://truth.bahamut.com.tw/s01/201805/e6364f379a91d2b38b69221c10b86047.PNG\n",
      "https://truth.bahamut.com.tw/s01/201805/4d660df1103eeb03094e8de8b8bacfb9.JPG\n",
      "https://truth.bahamut.com.tw/s01/201805/501c8815623e671e935cd2ce9cf0377e.PNG\n"
     ]
    }
   ],
   "source": [
    "it = re.findall('src=&quot;(.+?)&quot;/&gt;', ct) #正則表示法找出文章中的圖片網址\n",
    "for i in it:\n",
    "    user_agent = 'Mozilla/5.0 (Windows; U; Windows NT 6.1; zh-CN; rv:1.9.2.15) Gecko/20110303 Firefox/3.6.15' #偽裝使用者\n",
    "    headers = {'User-Agent':user_agent}\n",
    "    data_res = urllib.request.Request(url=url,headers=headers)\n",
    "    data = urllib.request.urlopen(i)  #先行打開它    \n",
    "    print(i)\n"
   ]
  },
  {
   "cell_type": "code",
   "execution_count": null,
   "metadata": {},
   "outputs": [],
   "source": []
  },
  {
   "cell_type": "code",
   "execution_count": 40,
   "metadata": {
    "collapsed": true
   },
   "outputs": [],
   "source": [
    "def proxyimg(request):  \n",
    "    if request.method == 'GET':  \n",
    "        url = request.GET['imgurl']  \n",
    "        u = urllib.urlopen(url)  \n",
    "        return HttpResponse(u.read(), content_type='image/jpeg')  "
   ]
  },
  {
   "cell_type": "code",
   "execution_count": null,
   "metadata": {
    "collapsed": true
   },
   "outputs": [],
   "source": []
  }
 ],
 "metadata": {
  "kernelspec": {
   "display_name": "Python 3",
   "language": "python",
   "name": "python3"
  },
  "language_info": {
   "codemirror_mode": {
    "name": "ipython",
    "version": 3
   },
   "file_extension": ".py",
   "mimetype": "text/x-python",
   "name": "python",
   "nbconvert_exporter": "python",
   "pygments_lexer": "ipython3",
   "version": "3.6.1"
  }
 },
 "nbformat": 4,
 "nbformat_minor": 2
}
